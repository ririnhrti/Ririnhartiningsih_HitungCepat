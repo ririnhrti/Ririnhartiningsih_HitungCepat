{
  "nbformat": 4,
  "nbformat_minor": 0,
  "metadata": {
    "colab": {
      "provenance": []
    },
    "kernelspec": {
      "name": "python3",
      "display_name": "Python 3"
    },
    "language_info": {
      "name": "python"
    }
  },
  "cells": [
    {
      "cell_type": "markdown",
      "source": [
        "1. Setup Pyspark"
      ],
      "metadata": {
        "id": "uBpswEwQvo6i"
      }
    },
    {
      "cell_type": "code",
      "source": [
        "# Insttall Pyspark\n",
        "!pip install pyspark"
      ],
      "metadata": {
        "colab": {
          "base_uri": "https://localhost:8080/"
        },
        "id": "LEbAIBHjvsMy",
        "outputId": "56d2078f-5c78-45ac-dbcc-fed22177e3c1"
      },
      "execution_count": 1,
      "outputs": [
        {
          "output_type": "stream",
          "name": "stdout",
          "text": [
            "Looking in indexes: https://pypi.org/simple, https://us-python.pkg.dev/colab-wheels/public/simple/\n",
            "Collecting pyspark\n",
            "  Downloading pyspark-3.3.1.tar.gz (281.4 MB)\n",
            "\u001b[K     |████████████████████████████████| 281.4 MB 48 kB/s \n",
            "\u001b[?25hCollecting py4j==0.10.9.5\n",
            "  Downloading py4j-0.10.9.5-py2.py3-none-any.whl (199 kB)\n",
            "\u001b[K     |████████████████████████████████| 199 kB 45.0 MB/s \n",
            "\u001b[?25hBuilding wheels for collected packages: pyspark\n",
            "  Building wheel for pyspark (setup.py) ... \u001b[?25l\u001b[?25hdone\n",
            "  Created wheel for pyspark: filename=pyspark-3.3.1-py2.py3-none-any.whl size=281845514 sha256=61eb8d28eeab59eda770c152e0d7527abcd7325648ce074cfd9a1ee6c9582bda\n",
            "  Stored in directory: /root/.cache/pip/wheels/42/59/f5/79a5bf931714dcd201b26025347785f087370a10a3329a899c\n",
            "Successfully built pyspark\n",
            "Installing collected packages: py4j, pyspark\n",
            "Successfully installed py4j-0.10.9.5 pyspark-3.3.1\n"
          ]
        }
      ]
    },
    {
      "cell_type": "code",
      "source": [
        "# Import SparkSession\n",
        "from pyspark.sql import SparkSession "
      ],
      "metadata": {
        "id": "RIXWzsVEwGrk"
      },
      "execution_count": 2,
      "outputs": []
    },
    {
      "cell_type": "code",
      "source": [
        "# Konfigurasi Spark\n",
        "\n",
        "# Membuat SparkSession\n",
        "spark = SparkSession.builder\\\n",
        "        .master(\"local\")\\\n",
        "        .appName(\"uts\")\\\n",
        "        .config('spark.ui.port', '4050')\\\n",
        "        .getOrCreate()\n",
        "\n",
        "# Deklarasi fungsi\n",
        "sc = spark.sparkContext"
      ],
      "metadata": {
        "id": "mP_rXEJdwToK"
      },
      "execution_count": 4,
      "outputs": []
    },
    {
      "cell_type": "markdown",
      "source": [
        "2.\tBaca data dari FullData.csv, kemudian pecah setidaknya menjadi 2 RDD (players, clubs) "
      ],
      "metadata": {
        "id": "xzCl23GSyg48"
      }
    },
    {
      "cell_type": "code",
      "source": [
        "# Read CSV file atau membaca data\n",
        "df = spark.read.csv(\"FullData.csv\", header=True, inferSchema=True)\n",
        "\n",
        "df.printSchema() # Berfungsi menampilkan tipe data dati setiap kolom yang ada\n",
        "df.show(10)"
      ],
      "metadata": {
        "colab": {
          "base_uri": "https://localhost:8080/"
        },
        "id": "pPyysCNRykq3",
        "outputId": "cac1ad99-de8f-4e62-df26-1497787d6373"
      },
      "execution_count": 5,
      "outputs": [
        {
          "output_type": "stream",
          "name": "stdout",
          "text": [
            "root\n",
            " |-- Name: string (nullable = true)\n",
            " |-- Nationality: string (nullable = true)\n",
            " |-- National_Position: string (nullable = true)\n",
            " |-- National_Kit: double (nullable = true)\n",
            " |-- Club: string (nullable = true)\n",
            " |-- Club_Position: string (nullable = true)\n",
            " |-- Club_Kit: double (nullable = true)\n",
            " |-- Club_Joining: string (nullable = true)\n",
            " |-- Contract_Expiry: double (nullable = true)\n",
            " |-- Rating: integer (nullable = true)\n",
            " |-- Height: string (nullable = true)\n",
            " |-- Weight: string (nullable = true)\n",
            " |-- Preffered_Foot: string (nullable = true)\n",
            " |-- Birth_Date: string (nullable = true)\n",
            " |-- Age: integer (nullable = true)\n",
            " |-- Preffered_Position: string (nullable = true)\n",
            " |-- Work_Rate: string (nullable = true)\n",
            " |-- Weak_foot: integer (nullable = true)\n",
            " |-- Skill_Moves: integer (nullable = true)\n",
            " |-- Ball_Control: integer (nullable = true)\n",
            " |-- Dribbling: integer (nullable = true)\n",
            " |-- Marking: integer (nullable = true)\n",
            " |-- Sliding_Tackle: integer (nullable = true)\n",
            " |-- Standing_Tackle: integer (nullable = true)\n",
            " |-- Aggression: integer (nullable = true)\n",
            " |-- Reactions: integer (nullable = true)\n",
            " |-- Attacking_Position: integer (nullable = true)\n",
            " |-- Interceptions: integer (nullable = true)\n",
            " |-- Vision: integer (nullable = true)\n",
            " |-- Composure: integer (nullable = true)\n",
            " |-- Crossing: integer (nullable = true)\n",
            " |-- Short_Pass: integer (nullable = true)\n",
            " |-- Long_Pass: integer (nullable = true)\n",
            " |-- Acceleration: integer (nullable = true)\n",
            " |-- Speed: integer (nullable = true)\n",
            " |-- Stamina: integer (nullable = true)\n",
            " |-- Strength: integer (nullable = true)\n",
            " |-- Balance: integer (nullable = true)\n",
            " |-- Agility: integer (nullable = true)\n",
            " |-- Jumping: integer (nullable = true)\n",
            " |-- Heading: integer (nullable = true)\n",
            " |-- Shot_Power: integer (nullable = true)\n",
            " |-- Finishing: integer (nullable = true)\n",
            " |-- Long_Shots: integer (nullable = true)\n",
            " |-- Curve: integer (nullable = true)\n",
            " |-- Freekick_Accuracy: integer (nullable = true)\n",
            " |-- Penalties: integer (nullable = true)\n",
            " |-- Volleys: integer (nullable = true)\n",
            " |-- GK_Positioning: integer (nullable = true)\n",
            " |-- GK_Diving: integer (nullable = true)\n",
            " |-- GK_Kicking: integer (nullable = true)\n",
            " |-- GK_Handling: integer (nullable = true)\n",
            " |-- GK_Reflexes: integer (nullable = true)\n",
            "\n",
            "+------------------+-----------+-----------------+------------+--------------+-------------+--------+------------+---------------+------+------+------+--------------+----------+---+------------------+---------------+---------+-----------+------------+---------+-------+--------------+---------------+----------+---------+------------------+-------------+------+---------+--------+----------+---------+------------+-----+-------+--------+-------+-------+-------+-------+----------+---------+----------+-----+-----------------+---------+-------+--------------+---------+----------+-----------+-----------+\n",
            "|              Name|Nationality|National_Position|National_Kit|          Club|Club_Position|Club_Kit|Club_Joining|Contract_Expiry|Rating|Height|Weight|Preffered_Foot|Birth_Date|Age|Preffered_Position|      Work_Rate|Weak_foot|Skill_Moves|Ball_Control|Dribbling|Marking|Sliding_Tackle|Standing_Tackle|Aggression|Reactions|Attacking_Position|Interceptions|Vision|Composure|Crossing|Short_Pass|Long_Pass|Acceleration|Speed|Stamina|Strength|Balance|Agility|Jumping|Heading|Shot_Power|Finishing|Long_Shots|Curve|Freekick_Accuracy|Penalties|Volleys|GK_Positioning|GK_Diving|GK_Kicking|GK_Handling|GK_Reflexes|\n",
            "+------------------+-----------+-----------------+------------+--------------+-------------+--------+------------+---------------+------+------+------+--------------+----------+---+------------------+---------------+---------+-----------+------------+---------+-------+--------------+---------------+----------+---------+------------------+-------------+------+---------+--------+----------+---------+------------+-----+-------+--------+-------+-------+-------+-------+----------+---------+----------+-----+-----------------+---------+-------+--------------+---------+----------+-----------+-----------+\n",
            "| Cristiano Ronaldo|   Portugal|               LS|         7.0|   Real Madrid|           LW|     7.0|  07/01/2009|         2021.0|    94|185 cm| 80 kg|         Right|02/05/1985| 32|             LW/ST|     High / Low|        4|          5|          93|       92|     22|            23|             31|        63|       96|                94|           29|    85|       86|      84|        83|       77|          91|   92|     92|      80|     63|     90|     95|     85|        92|       93|        90|   81|               76|       85|     88|            14|        7|        15|         11|         11|\n",
            "|      Lionel Messi|  Argentina|               RW|        10.0|  FC Barcelona|           RW|    10.0|  07/01/2004|         2018.0|    93|170 cm| 72 kg|          Left|06/24/1987| 29|                RW|Medium / Medium|        4|          4|          95|       97|     13|            26|             28|        48|       95|                93|           22|    90|       94|      77|        88|       87|          92|   87|     74|      59|     95|     90|     68|     71|        85|       95|        88|   89|               90|       74|     85|            14|        6|        15|         11|          8|\n",
            "|            Neymar|     Brazil|               LW|        10.0|  FC Barcelona|           LW|    11.0|  07/01/2013|         2021.0|    92|174 cm| 68 kg|         Right|02/05/1992| 25|                LW|  High / Medium|        5|          5|          95|       96|     21|            33|             24|        56|       88|                90|           36|    80|       80|      75|        81|       75|          93|   90|     79|      49|     82|     96|     61|     62|        78|       89|        77|   79|               84|       81|     83|            15|        9|        15|          9|         11|\n",
            "|       Luis Suárez|    Uruguay|               LS|         9.0|  FC Barcelona|           ST|     9.0|  07/11/2014|         2021.0|    92|182 cm| 85 kg|         Right|01/24/1987| 30|                ST|  High / Medium|        4|          4|          91|       86|     30|            38|             45|        78|       93|                92|           41|    84|       83|      77|        83|       64|          88|   77|     89|      76|     60|     86|     69|     77|        87|       94|        86|   86|               84|       85|     88|            33|       27|        31|         25|         37|\n",
            "|      Manuel Neuer|    Germany|               GK|         1.0|     FC Bayern|           GK|     1.0|  07/01/2011|         2021.0|    92|193 cm| 92 kg|         Right|03/27/1986| 31|                GK|Medium / Medium|        4|          1|          48|       30|     10|            11|             10|        29|       85|                12|           30|    70|       70|      15|        55|       59|          58|   61|     44|      83|     35|     52|     78|     25|        25|       13|        16|   14|               11|       47|     11|            91|       89|        95|         90|         89|\n",
            "|            De Gea|      Spain|               GK|         1.0|Manchester Utd|           GK|     1.0|  07/01/2011|         2019.0|    90|193 cm| 82 kg|         Right|11/07/1990| 26|                GK|Medium / Medium|        3|          1|          31|       13|     13|            13|             21|        38|       88|                12|           30|    68|       60|      17|        31|       32|          56|   56|     25|      64|     43|     57|     67|     21|        31|       13|        12|   21|               19|       40|     13|            86|       88|        87|         85|         90|\n",
            "|Robert Lewandowski|     Poland|               LS|         9.0|     FC Bayern|           ST|     9.0|  07/01/2014|         2021.0|    90|185 cm| 79 kg|         Right|08/21/1988| 28|                ST|  High / Medium|        4|          3|          87|       85|     25|            19|             42|        80|       88|                89|           39|    78|       87|      62|        83|       65|          79|   82|     79|      84|     79|     78|     84|     85|        86|       91|        82|   77|               76|       81|     86|             8|       15|        12|          6|         10|\n",
            "|       Gareth Bale|      Wales|               RS|        11.0|   Real Madrid|           RW|    11.0|  09/02/2013|         2022.0|    90|183 cm| 74 kg|          Left|07/16/1989| 27|                RW|  High / Medium|        3|          4|          88|       89|     51|            52|             55|        65|       87|                86|           59|    79|       85|      87|        86|       80|          93|   95|     78|      80|     65|     77|     85|     86|        91|       87|        90|   86|               85|       76|     76|             5|       15|        11|         15|          6|\n",
            "|Zlatan Ibrahimović|     Sweden|             null|        null|Manchester Utd|           ST|     9.0|  07/01/2016|         2017.0|    90|195 cm| 95 kg|         Right|10/03/1981| 35|                ST|   Medium / Low|        4|          4|          90|       87|     15|            27|             41|        84|       85|                86|           20|    83|       91|      76|        84|       76|          69|   74|     75|      93|     41|     86|     72|     80|        93|       90|        88|   82|               82|       91|     93|             9|       13|        10|         15|         12|\n",
            "|  Thibaut Courtois|    Belgium|               GK|         1.0|       Chelsea|           GK|    13.0|  07/26/2011|         2019.0|    89|199 cm| 91 kg|          Left|05/11/1992| 24|                GK|Medium / Medium|        3|          1|          23|       13|     11|            16|             18|        23|       81|                13|           15|    44|       52|      14|        32|       31|          46|   52|     38|      70|     45|     61|     68|     13|        36|       14|        17|   19|               11|       27|     12|            86|       84|        69|         91|         89|\n",
            "+------------------+-----------+-----------------+------------+--------------+-------------+--------+------------+---------------+------+------+------+--------------+----------+---+------------------+---------------+---------+-----------+------------+---------+-------+--------------+---------------+----------+---------+------------------+-------------+------+---------+--------+----------+---------+------------+-----+-------+--------+-------+-------+-------+-------+----------+---------+----------+-----+-----------------+---------+-------+--------------+---------+----------+-----------+-----------+\n",
            "only showing top 10 rows\n",
            "\n"
          ]
        }
      ]
    },
    {
      "cell_type": "code",
      "source": [
        "# Membagi file menjadi 2 RDD\n",
        "\n",
        "# Drop kolom Club\n",
        "Players_RDD = df.drop('Club').rdd\n",
        "\n",
        "# Menggunakan kolom Club\n",
        "Club_RDD = df.select('Club').distinct().rdd"
      ],
      "metadata": {
        "id": "h55UDCQ1y40a"
      },
      "execution_count": 6,
      "outputs": []
    },
    {
      "cell_type": "markdown",
      "source": [
        "# 3. Mengubah RDD menjadi PySpark Dataframe"
      ],
      "metadata": {
        "id": "6fFsKvzfzA6k"
      }
    },
    {
      "cell_type": "code",
      "source": [
        "# Mengubah RDD menjadi DataFrame\n",
        "Players_df = Players_RDD.toDF()\n",
        "Club_df = Club_RDD.toDF()"
      ],
      "metadata": {
        "id": "qDnxy4BizHQt"
      },
      "execution_count": 7,
      "outputs": []
    },
    {
      "cell_type": "markdown",
      "source": [
        "# 4. Agregasi jumlah pemain masing-masing kelompok berdasarkan:\n",
        "\n",
        "## a. Nationaly\n",
        "\n",
        "## b. Club"
      ],
      "metadata": {
        "id": "j5pSJWT3zL00"
      }
    },
    {
      "cell_type": "code",
      "source": [
        "# Agregasi pemain berdasarkan 'Nationaly'\n",
        "from pyspark.sql import functions as C\n",
        "\n",
        "Players_count = Players_df.groupBy('Nationality').agg(C.count('Name')\\\n",
        "  .alias('Players_Agg')).orderBy('Players_Agg', ascending=False) \n",
        "\n",
        "Players_count.show(10)"
      ],
      "metadata": {
        "colab": {
          "base_uri": "https://localhost:8080/"
        },
        "id": "iSmXIyKGzMz8",
        "outputId": "6df1d516-af5f-4097-f314-92ae996a4628"
      },
      "execution_count": 8,
      "outputs": [
        {
          "output_type": "stream",
          "name": "stdout",
          "text": [
            "+-------------------+-----------+\n",
            "|        Nationality|Players_Agg|\n",
            "+-------------------+-----------+\n",
            "|            England|       1618|\n",
            "|          Argentina|       1097|\n",
            "|              Spain|       1008|\n",
            "|             France|        974|\n",
            "|             Brazil|        921|\n",
            "|              Italy|        751|\n",
            "|            Germany|        689|\n",
            "|           Colombia|        592|\n",
            "|              Japan|        471|\n",
            "|Republic of Ireland|        442|\n",
            "+-------------------+-----------+\n",
            "only showing top 10 rows\n",
            "\n"
          ]
        }
      ]
    },
    {
      "cell_type": "code",
      "source": [
        "# Agregasi pemain berdasarkan 'Club'\n",
        "Club_count = Club_df.join(df, ['Club'], \"inner\")\n",
        "Club_count.groupBy('Club').agg(C.count('Name').alias('Players_Agg')).show(10)"
      ],
      "metadata": {
        "colab": {
          "base_uri": "https://localhost:8080/"
        },
        "id": "tOykCMjezRWB",
        "outputId": "9e7b9bc1-1340-468c-bd8c-fcbc888abde5"
      },
      "execution_count": 9,
      "outputs": [
        {
          "output_type": "stream",
          "name": "stdout",
          "text": [
            "+---------------+-----------+\n",
            "|           Club|Players_Agg|\n",
            "+---------------+-----------+\n",
            "|        Palermo|         28|\n",
            "|Shonan Bellmare|         24|\n",
            "|    Yeovil Town|         24|\n",
            "|     Sagan Tosu|         25|\n",
            "|          Carpi|         26|\n",
            "| Kaiserslautern|         28|\n",
            "|   Sparta R'dam|         29|\n",
            "|       FC Basel|         27|\n",
            "|  Karlsruher SC|         28|\n",
            "|Cheltenham Town|         25|\n",
            "+---------------+-----------+\n",
            "only showing top 10 rows\n",
            "\n"
          ]
        }
      ]
    },
    {
      "cell_type": "markdown",
      "source": [
        "# 5. Agregasi nilai:\n",
        "\n",
        "### a. Rata-rata rating berdasarkan Club_Position\n",
        "\n",
        "### b. Max rating berdasarkan National_Position"
      ],
      "metadata": {
        "id": "k7GDUhQ9zTX-"
      }
    },
    {
      "cell_type": "code",
      "source": [
        "# a. Agregasi rating berdasakan Club_Position\n",
        "Club_Position_avg_rating = Players_df.groupBy('Club_Position')\\\n",
        ".agg(C.avg('Rating').alias('Club_Position_avg_rating'))\n",
        "\n",
        "Club_Position_avg_rating.show(10)"
      ],
      "metadata": {
        "colab": {
          "base_uri": "https://localhost:8080/"
        },
        "id": "T2tTZKaazUFW",
        "outputId": "64599643-6185-4add-e2de-2d1ae85af08d"
      },
      "execution_count": 10,
      "outputs": [
        {
          "output_type": "stream",
          "name": "stdout",
          "text": [
            "+-------------+------------------------+\n",
            "|Club_Position|Club_Position_avg_rating|\n",
            "+-------------+------------------------+\n",
            "|           RF|                    72.0|\n",
            "|          LWB|       67.44444444444444|\n",
            "|          LCM|       68.77966101694915|\n",
            "|           LM|       68.81884057971014|\n",
            "|          RDM|       69.81954887218045|\n",
            "|           LF|       71.08333333333333|\n",
            "|         null|                    81.0|\n",
            "|          CAM|        70.5904761904762|\n",
            "|          RAM|       71.22222222222223|\n",
            "|           LB|       68.10382513661202|\n",
            "+-------------+------------------------+\n",
            "only showing top 10 rows\n",
            "\n"
          ]
        }
      ]
    },
    {
      "cell_type": "code",
      "source": [
        "# b. Agregasi max rating berdasakan National_Position\n",
        "National_Position_maxrating = Players_df.groupBy('National_Position')\\\n",
        ".agg(C.max('Rating').alias('National_Position_Max_Rating'))\n",
        "\n",
        "National_Position_maxrating.show(10)"
      ],
      "metadata": {
        "colab": {
          "base_uri": "https://localhost:8080/"
        },
        "id": "KQ21dirbzXWt",
        "outputId": "e3317b84-5512-40aa-a8ec-5b46feb55b55"
      },
      "execution_count": 11,
      "outputs": [
        {
          "output_type": "stream",
          "name": "stdout",
          "text": [
            "+-----------------+----------------------------+\n",
            "|National_Position|National_Position_Max_Rating|\n",
            "+-----------------+----------------------------+\n",
            "|               RF|                          85|\n",
            "|              LWB|                          75|\n",
            "|              LCM|                          88|\n",
            "|               LM|                          87|\n",
            "|              RDM|                          84|\n",
            "|               LF|                          89|\n",
            "|             null|                          90|\n",
            "|              CAM|                          89|\n",
            "|              RAM|                          83|\n",
            "|               LB|                          86|\n",
            "+-----------------+----------------------------+\n",
            "only showing top 10 rows\n",
            "\n"
          ]
        }
      ]
    },
    {
      "cell_type": "markdown",
      "source": [
        "# 6. Melakukan 3 Operasi transform RDD\n",
        "\n",
        "### a. ReduceByKey\n",
        "\n",
        "### b. ShortByKey\n",
        "\n",
        "### c. Filtering"
      ],
      "metadata": {
        "id": "u-7egpSOzZh1"
      }
    },
    {
      "cell_type": "code",
      "source": [
        "# a. ReduceByKey\n",
        "Club_kit = df.select('Club', 'Club_Kit').rdd \n",
        "Club_sum_map = Club_kit.map(lambda row: (row.Club, row.Club_Kit))"
      ],
      "metadata": {
        "id": "s7eK8LyZzaFH"
      },
      "execution_count": 12,
      "outputs": []
    },
    {
      "cell_type": "code",
      "source": [
        "Club_kit_sum = Club_sum_map.reduceByKey(lambda x, y: x + y)\n",
        "for key, value in Club_kit_sum.take(10): print(f'{key} has a club kit sum of {value}')"
      ],
      "metadata": {
        "colab": {
          "base_uri": "https://localhost:8080/"
        },
        "id": "2qNu2nwizees",
        "outputId": "4acb3f85-2bfc-4e2b-faea-3ac7c2f5f1c9"
      },
      "execution_count": 13,
      "outputs": [
        {
          "output_type": "stream",
          "name": "stdout",
          "text": [
            "Real Madrid has a club kit sum of 582.0\n",
            "FC Barcelona has a club kit sum of 640.0\n",
            "FC Bayern has a club kit sum of 521.0\n",
            "Manchester Utd has a club kit sum of 814.0\n",
            "Chelsea has a club kit sum of 868.0\n",
            "Arsenal has a club kit sum of 766.0\n",
            "Juventus has a club kit sum of 633.0\n",
            "PSG has a club kit sum of 576.0\n",
            "Manchester City has a club kit sum of 1069.0\n",
            "Atlético Madrid has a club kit sum of 567.0\n"
          ]
        }
      ]
    },
    {
      "cell_type": "code",
      "source": [
        "#b. ShortbyKey\n",
        "swap_Club_kit_sum = Club_kit_sum.map( lambda row: (row[1], row[0]))"
      ],
      "metadata": {
        "id": "Ifl3_-gIzhig"
      },
      "execution_count": 14,
      "outputs": []
    },
    {
      "cell_type": "code",
      "source": [
        "sorted_kit_sum = swap_Club_kit_sum.sortByKey(ascending=False)\n",
        "for key, value in Club_kit_sum.take(10): print(f'Sum rating of {value} is from {key} club')"
      ],
      "metadata": {
        "colab": {
          "base_uri": "https://localhost:8080/"
        },
        "id": "syHFyYjdzjMf",
        "outputId": "d97a9fb0-ad93-4a79-f1f5-39995c301a85"
      },
      "execution_count": 15,
      "outputs": [
        {
          "output_type": "stream",
          "name": "stdout",
          "text": [
            "Sum rating of 582.0 is from Real Madrid club\n",
            "Sum rating of 640.0 is from FC Barcelona club\n",
            "Sum rating of 521.0 is from FC Bayern club\n",
            "Sum rating of 814.0 is from Manchester Utd club\n",
            "Sum rating of 868.0 is from Chelsea club\n",
            "Sum rating of 766.0 is from Arsenal club\n",
            "Sum rating of 633.0 is from Juventus club\n",
            "Sum rating of 576.0 is from PSG club\n",
            "Sum rating of 1069.0 is from Manchester City club\n",
            "Sum rating of 567.0 is from Atlético Madrid club\n"
          ]
        }
      ]
    },
    {
      "cell_type": "code",
      "source": [
        "# c. Filtering Goal Keeper (GK) terbaik di setiap club\n",
        "GK_filtering = Players_RDD.filter(\n",
        "lambda Filtering_Players: Filtering_Players.Club_Position == 'GK' \n",
        "  and Filtering_Players.Rating >= 89)\n",
        "\n",
        "for x in GK_filtering.collect():\n",
        "  print(f'Posisi {x.Club_Position} dengan rating {x.Rating} dimiliki oleh {x.Name}')"
      ],
      "metadata": {
        "colab": {
          "base_uri": "https://localhost:8080/"
        },
        "id": "XYx_lKqozlmT",
        "outputId": "cfa38d44-b6e2-4ebf-aab0-718c3bcc3cd2"
      },
      "execution_count": 16,
      "outputs": [
        {
          "output_type": "stream",
          "name": "stdout",
          "text": [
            "Posisi GK dengan rating 92 dimiliki oleh Manuel Neuer\n",
            "Posisi GK dengan rating 90 dimiliki oleh De Gea\n",
            "Posisi GK dengan rating 89 dimiliki oleh Thibaut Courtois\n"
          ]
        }
      ]
    }
  ]
}